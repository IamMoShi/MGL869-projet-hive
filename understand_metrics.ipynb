{
 "cells": [
  {
   "metadata": {},
   "cell_type": "markdown",
   "source": [
    "---\n",
    "\n",
    "---\n",
    "\n",
    "# Load version in files and extract data from their commits\n",
    "\n",
    "---\n",
    "\n",
    "---"
   ],
   "id": "78cb43f3d4d70b78"
  },
  {
   "metadata": {},
   "cell_type": "markdown",
   "source": [
    "## File packages\n",
    "\n",
    "### pip installed packages"
   ],
   "id": "230700914706a1ed"
  },
  {
   "metadata": {
    "ExecuteTime": {
     "end_time": "2024-12-18T20:46:16.201938Z",
     "start_time": "2024-12-18T20:46:13.408375Z"
    }
   },
   "cell_type": "code",
   "source": [
    "import os.path\n",
    "import git as git\n",
    "import pandas as pd\n",
    "\n",
    "from configparser import ConfigParser"
   ],
   "id": "29248de329403888",
   "outputs": [],
   "execution_count": 1
  },
  {
   "metadata": {},
   "cell_type": "markdown",
   "source": " ### Local packages\n",
   "id": "9c2456d325fb84f5"
  },
  {
   "metadata": {
    "ExecuteTime": {
     "end_time": "2024-12-18T20:46:16.250760Z",
     "start_time": "2024-12-18T20:46:16.207998Z"
    }
   },
   "cell_type": "code",
   "source": [
    "import src.versions as my_versions\n",
    "import src.understand as my_understand"
   ],
   "id": "3f8fa1b4d527d3d6",
   "outputs": [],
   "execution_count": 2
  },
  {
   "metadata": {},
   "cell_type": "markdown",
   "source": [
    "---\n",
    "\n",
    "## Constants loading\n"
   ],
   "id": "20bbff94f33d82f8"
  },
  {
   "metadata": {
    "ExecuteTime": {
     "end_time": "2024-12-18T20:46:17.027726Z",
     "start_time": "2024-12-18T20:46:17.005578Z"
    }
   },
   "cell_type": "code",
   "source": [
    "config: ConfigParser = ConfigParser()\n",
    "config.read(\"config.ini\")\n",
    "\n",
    "data_directory: str = config[\"GENERAL\"][\"DataDirectory\"]\n",
    "hive_git_directory: str = config[\"GIT\"][\"HiveGitDirectory\"]\n",
    "hive_git_repo_Name: str = config[\"GIT\"][\"HiveGitRepoName\"]\n",
    "\n",
    "hive_git_path: str = os.path.join(data_directory, hive_git_directory, hive_git_repo_Name)\n",
    "\n",
    "repo: git.Repo = git.Repo(hive_git_path)"
   ],
   "id": "5b6c0f6bd3d12940",
   "outputs": [],
   "execution_count": 3
  },
  {
   "metadata": {},
   "cell_type": "markdown",
   "source": [
    "---\n",
    "\n",
    "## Extracting git tags of minor and major versions\n",
    "\n",
    "Alpha, beta and patch are not selected"
   ],
   "id": "2ee867e8f232d83a"
  },
  {
   "metadata": {
    "ExecuteTime": {
     "end_time": "2024-12-18T20:46:17.070556Z",
     "start_time": "2024-12-18T20:46:17.045896Z"
    }
   },
   "cell_type": "code",
   "source": [
    "tags = my_versions.get_versions_tags(repo)\n",
    "tags"
   ],
   "id": "764064f90b902",
   "outputs": [
    {
     "data": {
      "text/plain": [
       "[<git.TagReference \"refs/tags/rel/release-2.1.0\">,\n",
       " <git.TagReference \"refs/tags/rel/release-2.2.0\">,\n",
       " <git.TagReference \"refs/tags/rel/release-2.3.0\">,\n",
       " <git.TagReference \"refs/tags/rel/release-3.0.0\">,\n",
       " <git.TagReference \"refs/tags/rel/release-3.1.0\">,\n",
       " <git.TagReference \"refs/tags/rel/release-4.0.0\">,\n",
       " <git.TagReference \"refs/tags/release-2.0.0\">]"
      ]
     },
     "execution_count": 4,
     "metadata": {},
     "output_type": "execute_result"
    }
   ],
   "execution_count": 4
  },
  {
   "metadata": {
    "ExecuteTime": {
     "end_time": "2024-12-18T20:46:17.218129Z",
     "start_time": "2024-12-18T20:46:17.087910Z"
    }
   },
   "cell_type": "code",
   "source": [
    "filtered_versions: {(int, int, int): git.Commit} = {}\n",
    "for tag in my_versions.order_versions(tags):\n",
    "    filtered_versions[tag.name.split(\"-\")[-1]] =  tag.commit\n",
    "filtered_versions"
   ],
   "id": "e06fe081b10b4839",
   "outputs": [
    {
     "data": {
      "text/plain": [
       "{'2.0.0': <git.Commit \"7f9f1fcb8697fb33f0edc2c391930a3728d247d7\">,\n",
       " '2.1.0': <git.Commit \"9265bc24d75ac945bde9ce1a0999fddd8f2aae29\">,\n",
       " '2.2.0': <git.Commit \"da840b0f8fa99cab9f004810cd22abc207493cae\">,\n",
       " '2.3.0': <git.Commit \"6f4c35c9e904d226451c465effdc5bfd31d395a0\">,\n",
       " '3.0.0': <git.Commit \"ce61711a5fa54ab34fc74d86d521ecaeea6b072a\">,\n",
       " '3.1.0': <git.Commit \"bcc7df95824831a8d2f1524e4048dfc23ab98c19\">,\n",
       " '4.0.0': <git.Commit \"183f8cb41d3dbed961ffd27999876468ff06690c\">}"
      ]
     },
     "execution_count": 5,
     "metadata": {},
     "output_type": "execute_result"
    }
   ],
   "execution_count": 5
  },
  {
   "metadata": {},
   "cell_type": "markdown",
   "source": [
    "---\n",
    "\n",
    "---\n",
    "\n",
    "# Data processing using understand from scitools\n",
    "\n",
    "\n",
    "---\n",
    "\n",
    "---\n",
    "\n",
    "## Constants loading"
   ],
   "id": "6c4a235629214dc2"
  },
  {
   "cell_type": "code",
   "id": "initial_id",
   "metadata": {
    "collapsed": true,
    "ExecuteTime": {
     "end_time": "2024-12-18T20:46:17.264148Z",
     "start_time": "2024-12-18T20:46:17.258658Z"
    }
   },
   "source": [
    "hive_git_directory: str = config[\"GIT\"][\"HiveGitDirectory\"]\n",
    "data_directory: str = config[\"GENERAL\"][\"DataDirectory\"]\n",
    "understand_project_name: str = config[\"UNDERSTAND\"][\"UnderstandProjectName\"]\n",
    "\n",
    "understand_project_path: str = os.path.join(data_directory, hive_git_directory, understand_project_name)\n",
    "if not os.path.exists(understand_project_path):\n",
    "    my_understand.und_create_command()"
   ],
   "outputs": [],
   "execution_count": 6
  },
  {
   "metadata": {},
   "cell_type": "markdown",
   "source": [
    "---\n",
    "\n",
    "## Purging potential previous data"
   ],
   "id": "516c4e6374d9e918"
  },
  {
   "metadata": {
    "ExecuteTime": {
     "end_time": "2024-12-18T20:46:17.566234Z",
     "start_time": "2024-12-18T20:46:17.286817Z"
    }
   },
   "cell_type": "code",
   "source": "my_understand.und_purge_command()",
   "id": "c637012991dfffb5",
   "outputs": [
    {
     "name": "stdout",
     "output_type": "stream",
     "text": [
      "Running command : \n",
      "     und purge -db data\\hive_data\\hive.und\n",
      "Database purged.\r\n",
      "\n"
     ]
    }
   ],
   "execution_count": 7
  },
  {
   "metadata": {},
   "cell_type": "markdown",
   "source": [
    "---\n",
    "\n",
    "## Analyzing projet if asked in config"
   ],
   "id": "e6b8a62c557c2df2"
  },
  {
   "metadata": {
    "ExecuteTime": {
     "end_time": "2024-12-18T20:46:17.586288Z",
     "start_time": "2024-12-18T20:46:17.579785Z"
    }
   },
   "cell_type": "code",
   "source": "filtered_versions",
   "id": "b1e8164145759fa",
   "outputs": [
    {
     "data": {
      "text/plain": [
       "{'2.0.0': <git.Commit \"7f9f1fcb8697fb33f0edc2c391930a3728d247d7\">,\n",
       " '2.1.0': <git.Commit \"9265bc24d75ac945bde9ce1a0999fddd8f2aae29\">,\n",
       " '2.2.0': <git.Commit \"da840b0f8fa99cab9f004810cd22abc207493cae\">,\n",
       " '2.3.0': <git.Commit \"6f4c35c9e904d226451c465effdc5bfd31d395a0\">,\n",
       " '3.0.0': <git.Commit \"ce61711a5fa54ab34fc74d86d521ecaeea6b072a\">,\n",
       " '3.1.0': <git.Commit \"bcc7df95824831a8d2f1524e4048dfc23ab98c19\">,\n",
       " '4.0.0': <git.Commit \"183f8cb41d3dbed961ffd27999876468ff06690c\">}"
      ]
     },
     "execution_count": 8,
     "metadata": {},
     "output_type": "execute_result"
    }
   ],
   "execution_count": 8
  },
  {
   "metadata": {},
   "cell_type": "markdown",
   "source": [
    "If set to **yes** in config.ini, the project will be analyzed\n",
    "\n",
    "<p style=\"color:red; font-size:20px;\">Analyzing will take a long time</p>\n",
    "\n",
    "If analyzing takes below 5 minutes, it is not working check the config.ini file"
   ],
   "id": "953b486e2e69fe68"
  },
  {
   "metadata": {
    "ExecuteTime": {
     "end_time": "2024-12-18T20:46:17.619731Z",
     "start_time": "2024-12-18T20:46:17.613175Z"
    }
   },
   "cell_type": "code",
   "source": "my_understand.metrics(filtered_versions)",
   "id": "903969abeb868620",
   "outputs": [
    {
     "name": "stdout",
     "output_type": "stream",
     "text": [
      "Metrics analysis is skipped as per configuration.\n"
     ]
    }
   ],
   "execution_count": 9
  },
  {
   "metadata": {
    "ExecuteTime": {
     "end_time": "2024-12-18T20:47:22.113038Z",
     "start_time": "2024-12-18T20:46:17.642765Z"
    }
   },
   "cell_type": "code",
   "source": "my_understand.label_all_metrics()",
   "id": "8ee241830aafc0d3",
   "outputs": [
    {
     "name": "stdout",
     "output_type": "stream",
     "text": [
      "Creating output directory: data\\labeled_metrics_output\n",
      "2.0.0_metrics.csv\n",
      "Processing metrics file: data\\metrics_output\\2.0.0_metrics.csv\n",
      "Number of bugs found in version 2.0.0: 1161\n",
      "Labeled metrics saved to: data\\labeled_metrics_output\\2.0.0_labeled_metrics.csv\n",
      "2.1.0_metrics.csv\n",
      "Processing metrics file: data\\metrics_output\\2.1.0_metrics.csv\n",
      "Number of bugs found in version 2.1.0: 1004\n",
      "Labeled metrics saved to: data\\labeled_metrics_output\\2.1.0_labeled_metrics.csv\n",
      "2.2.0_metrics.csv\n",
      "Processing metrics file: data\\metrics_output\\2.2.0_metrics.csv\n",
      "Number of bugs found in version 2.2.0: 722\n",
      "Labeled metrics saved to: data\\labeled_metrics_output\\2.2.0_labeled_metrics.csv\n",
      "2.3.0_metrics.csv\n",
      "Processing metrics file: data\\metrics_output\\2.3.0_metrics.csv\n",
      "Number of bugs found in version 2.3.0: 56\n",
      "Labeled metrics saved to: data\\labeled_metrics_output\\2.3.0_labeled_metrics.csv\n",
      "3.0.0_metrics.csv\n",
      "Processing metrics file: data\\metrics_output\\3.0.0_metrics.csv\n",
      "Number of bugs found in version 3.0.0: 5691\n",
      "Labeled metrics saved to: data\\labeled_metrics_output\\3.0.0_labeled_metrics.csv\n",
      "3.1.0_metrics.csv\n",
      "Processing metrics file: data\\metrics_output\\3.1.0_metrics.csv\n",
      "Number of bugs found in version 3.1.0: 580\n",
      "Labeled metrics saved to: data\\labeled_metrics_output\\3.1.0_labeled_metrics.csv\n",
      "4.0.0_metrics.csv\n",
      "Processing metrics file: data\\metrics_output\\4.0.0_metrics.csv\n",
      "Number of bugs found in version 4.0.0: 1080\n",
      "Labeled metrics saved to: data\\labeled_metrics_output\\4.0.0_labeled_metrics.csv\n"
     ]
    }
   ],
   "execution_count": 10
  },
  {
   "metadata": {
    "ExecuteTime": {
     "end_time": "2024-12-18T20:47:56.255180Z",
     "start_time": "2024-12-18T20:47:22.152208Z"
    }
   },
   "cell_type": "code",
   "source": "my_understand.enrich_metrics()",
   "id": "d97e51e0f8c3d91f",
   "outputs": [
    {
     "name": "stdout",
     "output_type": "stream",
     "text": [
      "Creating output directory: data\\enriched_metrics_output\n",
      "Processing enrichment metrics file: data\\metrics_output\\2.0.0_metrics.csv\n",
      "Enriched metrics saved to: data\\enriched_metrics_output\\2.0.0_enrichi_metrics.csv\n",
      "Processing enrichment metrics file: data\\metrics_output\\2.1.0_metrics.csv\n",
      "Enriched metrics saved to: data\\enriched_metrics_output\\2.1.0_enrichi_metrics.csv\n",
      "Processing enrichment metrics file: data\\metrics_output\\2.2.0_metrics.csv\n",
      "Enriched metrics saved to: data\\enriched_metrics_output\\2.2.0_enrichi_metrics.csv\n",
      "Processing enrichment metrics file: data\\metrics_output\\2.3.0_metrics.csv\n",
      "Enriched metrics saved to: data\\enriched_metrics_output\\2.3.0_enrichi_metrics.csv\n",
      "Processing enrichment metrics file: data\\metrics_output\\3.0.0_metrics.csv\n",
      "Enriched metrics saved to: data\\enriched_metrics_output\\3.0.0_enrichi_metrics.csv\n",
      "Processing enrichment metrics file: data\\metrics_output\\3.1.0_metrics.csv\n",
      "Enriched metrics saved to: data\\enriched_metrics_output\\3.1.0_enrichi_metrics.csv\n",
      "Processing enrichment metrics file: data\\metrics_output\\4.0.0_metrics.csv\n",
      "Enriched metrics saved to: data\\enriched_metrics_output\\4.0.0_enrichi_metrics.csv\n"
     ]
    }
   ],
   "execution_count": 11
  },
  {
   "metadata": {
    "ExecuteTime": {
     "end_time": "2024-12-18T20:47:58.895772Z",
     "start_time": "2024-12-18T20:47:56.286276Z"
    }
   },
   "cell_type": "code",
   "source": [
    "versions = list(filtered_versions.keys())\n",
    "my_understand.merge_all_metrics(versions)"
   ],
   "id": "a4233e48f9c17358",
   "outputs": [
    {
     "name": "stdout",
     "output_type": "stream",
     "text": [
      "Creating output directory: data\\merged_metrics_output\n",
      "Final file generated for version 2.0.0: data\\merged_metrics_output\\2.0.0_static_metrics.csv\n",
      "Final file generated for version 2.1.0: data\\merged_metrics_output\\2.1.0_static_metrics.csv\n",
      "Final file generated for version 2.2.0: data\\merged_metrics_output\\2.2.0_static_metrics.csv\n",
      "Final file generated for version 2.3.0: data\\merged_metrics_output\\2.3.0_static_metrics.csv\n",
      "Final file generated for version 3.0.0: data\\merged_metrics_output\\3.0.0_static_metrics.csv\n",
      "Final file generated for version 3.1.0: data\\merged_metrics_output\\3.1.0_static_metrics.csv\n",
      "Final file generated for version 4.0.0: data\\merged_metrics_output\\4.0.0_static_metrics.csv\n"
     ]
    }
   ],
   "execution_count": 12
  },
  {
   "metadata": {
    "ExecuteTime": {
     "end_time": "2024-12-18T20:47:58.907765Z",
     "start_time": "2024-12-18T20:47:58.903795Z"
    }
   },
   "cell_type": "code",
   "source": "",
   "id": "47f15b17f1b3c50",
   "outputs": [],
   "execution_count": null
  }
 ],
 "metadata": {
  "kernelspec": {
   "display_name": "Python 3",
   "language": "python",
   "name": "python3"
  },
  "language_info": {
   "codemirror_mode": {
    "name": "ipython",
    "version": 2
   },
   "file_extension": ".py",
   "mimetype": "text/x-python",
   "name": "python",
   "nbconvert_exporter": "python",
   "pygments_lexer": "ipython2",
   "version": "2.7.6"
  }
 },
 "nbformat": 4,
 "nbformat_minor": 5
}
