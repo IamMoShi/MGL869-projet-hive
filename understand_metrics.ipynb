{
 "cells": [
  {
   "metadata": {},
   "cell_type": "markdown",
   "source": [
    "---\n",
    "\n",
    "---\n",
    "\n",
    "# Load version in files and extract data from their commits\n",
    "\n",
    "---\n",
    "\n",
    "---"
   ],
   "id": "78cb43f3d4d70b78"
  },
  {
   "metadata": {},
   "cell_type": "markdown",
   "source": [
    "## File packages\n",
    "\n",
    "### pip installed packages"
   ],
   "id": "230700914706a1ed"
  },
  {
   "metadata": {
    "ExecuteTime": {
     "end_time": "2024-12-17T22:18:33.936200Z",
     "start_time": "2024-12-17T22:18:32.447422Z"
    }
   },
   "cell_type": "code",
   "source": [
    "import os.path\n",
    "\n",
    "import git as git\n",
    "import pandas as pd\n",
    "from configparser import ConfigParser"
   ],
   "id": "29248de329403888",
   "outputs": [],
   "execution_count": 1
  },
  {
   "metadata": {},
   "cell_type": "markdown",
   "source": " ### Local packages\n",
   "id": "9c2456d325fb84f5"
  },
  {
   "metadata": {
    "ExecuteTime": {
     "end_time": "2024-12-17T22:18:33.963229Z",
     "start_time": "2024-12-17T22:18:33.949732Z"
    }
   },
   "cell_type": "code",
   "source": "import src.versions as my_versions",
   "id": "3f8fa1b4d527d3d6",
   "outputs": [],
   "execution_count": 2
  },
  {
   "metadata": {},
   "cell_type": "markdown",
   "source": [
    "---\n",
    "\n",
    "## Constants loading\n"
   ],
   "id": "20bbff94f33d82f8"
  },
  {
   "metadata": {
    "ExecuteTime": {
     "end_time": "2024-12-17T22:18:34.373975Z",
     "start_time": "2024-12-17T22:18:34.362845Z"
    }
   },
   "cell_type": "code",
   "source": [
    "config: ConfigParser = ConfigParser()\n",
    "config.read(\"config.ini\")\n",
    "\n",
    "data_directory: str = config[\"GENERAL\"][\"DataDirectory\"]\n",
    "hive_git_directory: str = config[\"GIT\"][\"HiveGitDirectory\"]\n",
    "hive_git_repo_Name: str = config[\"GIT\"][\"HiveGitRepoName\"]\n",
    "\n",
    "hive_git_path: str = os.path.join(data_directory, hive_git_directory, hive_git_repo_Name)\n",
    "\n",
    "repo: git.Repo = git.Repo(hive_git_path)"
   ],
   "id": "5b6c0f6bd3d12940",
   "outputs": [],
   "execution_count": 3
  },
  {
   "metadata": {},
   "cell_type": "markdown",
   "source": [
    "---\n",
    "\n",
    "## Extracting git tags of minor and major versions\n",
    "\n",
    "Alpha, beta and patch are not selected"
   ],
   "id": "2ee867e8f232d83a"
  },
  {
   "metadata": {
    "ExecuteTime": {
     "end_time": "2024-12-17T22:18:34.396736Z",
     "start_time": "2024-12-17T22:18:34.383099Z"
    }
   },
   "cell_type": "code",
   "source": [
    "tags = my_versions.get_versions_tags(repo)\n",
    "tags"
   ],
   "id": "764064f90b902",
   "outputs": [
    {
     "data": {
      "text/plain": [
       "[<git.TagReference \"refs/tags/rel/release-2.1.0\">,\n",
       " <git.TagReference \"refs/tags/rel/release-2.2.0\">,\n",
       " <git.TagReference \"refs/tags/rel/release-2.3.0\">,\n",
       " <git.TagReference \"refs/tags/rel/release-3.0.0\">,\n",
       " <git.TagReference \"refs/tags/rel/release-3.1.0\">,\n",
       " <git.TagReference \"refs/tags/rel/release-4.0.0\">,\n",
       " <git.TagReference \"refs/tags/release-2.0.0\">]"
      ]
     },
     "execution_count": 4,
     "metadata": {},
     "output_type": "execute_result"
    }
   ],
   "execution_count": 4
  },
  {
   "metadata": {
    "ExecuteTime": {
     "end_time": "2024-12-17T22:18:34.421451Z",
     "start_time": "2024-12-17T22:18:34.414784Z"
    }
   },
   "cell_type": "code",
   "source": "my_versions.order_versions(tags)",
   "id": "e06fe081b10b4839",
   "outputs": [
    {
     "data": {
      "text/plain": [
       "[<git.TagReference \"refs/tags/release-2.0.0\">,\n",
       " <git.TagReference \"refs/tags/rel/release-2.1.0\">,\n",
       " <git.TagReference \"refs/tags/rel/release-2.2.0\">,\n",
       " <git.TagReference \"refs/tags/rel/release-2.3.0\">,\n",
       " <git.TagReference \"refs/tags/rel/release-3.0.0\">,\n",
       " <git.TagReference \"refs/tags/rel/release-3.1.0\">,\n",
       " <git.TagReference \"refs/tags/rel/release-4.0.0\">]"
      ]
     },
     "execution_count": 5,
     "metadata": {},
     "output_type": "execute_result"
    }
   ],
   "execution_count": 5
  },
  {
   "metadata": {},
   "cell_type": "markdown",
   "source": [
    "---\n",
    "\n",
    "---\n",
    "\n",
    "# Data processing using understand from scitools\n",
    "\n",
    "\n",
    "---\n",
    "\n",
    "---"
   ],
   "id": "6c4a235629214dc2"
  },
  {
   "cell_type": "code",
   "id": "initial_id",
   "metadata": {
    "collapsed": true,
    "ExecuteTime": {
     "end_time": "2024-12-17T22:18:34.431189Z",
     "start_time": "2024-12-17T22:18:34.427470Z"
    }
   },
   "source": [
    ""
   ],
   "outputs": [],
   "execution_count": null
  },
  {
   "metadata": {},
   "cell_type": "markdown",
   "source": "",
   "id": "1445bebfa16c8d36"
  },
  {
   "metadata": {
    "ExecuteTime": {
     "end_time": "2024-12-17T22:18:34.449286Z",
     "start_time": "2024-12-17T22:18:34.446046Z"
    }
   },
   "cell_type": "code",
   "source": "",
   "id": "c637012991dfffb5",
   "outputs": [],
   "execution_count": null
  },
  {
   "metadata": {},
   "cell_type": "markdown",
   "source": "##",
   "id": "e6b8a62c557c2df2"
  }
 ],
 "metadata": {
  "kernelspec": {
   "display_name": "Python 3",
   "language": "python",
   "name": "python3"
  },
  "language_info": {
   "codemirror_mode": {
    "name": "ipython",
    "version": 2
   },
   "file_extension": ".py",
   "mimetype": "text/x-python",
   "name": "python",
   "nbconvert_exporter": "python",
   "pygments_lexer": "ipython2",
   "version": "2.7.6"
  }
 },
 "nbformat": 4,
 "nbformat_minor": 5
}
