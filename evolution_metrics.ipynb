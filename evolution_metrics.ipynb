{
 "cells": [
  {
   "metadata": {},
   "cell_type": "markdown",
   "source": [
    "---\n",
    "\n",
    "---\n",
    "\n",
    "# Load version in files and extract data from their commits\n",
    "\n",
    "---\n",
    "\n",
    "---\n",
    "## File packages\n",
    "\n",
    "### pip installed packages"
   ],
   "id": "4921e0e764268906"
  },
  {
   "metadata": {},
   "cell_type": "markdown",
   "source": [
    "## File packages\n",
    "\n",
    "### pip installed packages"
   ],
   "id": "cb2dea1ad4d9f26d"
  },
  {
   "cell_type": "code",
   "id": "initial_id",
   "metadata": {
    "collapsed": true,
    "ExecuteTime": {
     "end_time": "2024-12-19T18:15:17.748268Z",
     "start_time": "2024-12-19T18:15:17.590Z"
    }
   },
   "source": [
    "import os\n",
    "import git\n",
    "import json\n",
    "\n",
    "from configparser import ConfigParser\n",
    "from datetime import datetime"
   ],
   "outputs": [],
   "execution_count": 3
  },
  {
   "metadata": {},
   "cell_type": "markdown",
   "source": " ### Local packages\n",
   "id": "8b4ac1f45344e97d"
  },
  {
   "metadata": {
    "ExecuteTime": {
     "end_time": "2024-12-19T18:15:18.279942Z",
     "start_time": "2024-12-19T18:15:18.185822Z"
    }
   },
   "cell_type": "code",
   "source": "import src.versions as my_versions",
   "id": "3bac6afad496c7e5",
   "outputs": [],
   "execution_count": 4
  },
  {
   "metadata": {},
   "cell_type": "markdown",
   "source": [
    "---\n",
    "\n",
    "## Constants loading\n"
   ],
   "id": "eb660046b9cc3445"
  },
  {
   "metadata": {
    "ExecuteTime": {
     "end_time": "2024-12-19T18:15:18.712913Z",
     "start_time": "2024-12-19T18:15:18.684769Z"
    }
   },
   "cell_type": "code",
   "source": [
    "config: ConfigParser = ConfigParser()\n",
    "config.read(\"config.ini\")\n",
    "\n",
    "data_directory: str = config[\"GENERAL\"][\"DataDirectory\"]\n",
    "hive_git_directory: str = config[\"GIT\"][\"HiveGitDirectory\"]\n",
    "hive_git_repo_Name: str = config[\"GIT\"][\"HiveGitRepoName\"]\n",
    "\n",
    "hive_git_path: str = os.path.join(data_directory, hive_git_directory, hive_git_repo_Name)\n",
    "\n",
    "repo: git.Repo = git.Repo(hive_git_path)"
   ],
   "id": "a44e5e55c64652e5",
   "outputs": [],
   "execution_count": 5
  },
  {
   "metadata": {},
   "cell_type": "markdown",
   "source": [
    "---\n",
    "\n",
    "## Extracting git tags of minor and major versions\n",
    "\n",
    "Alpha, beta and patch are not selected"
   ],
   "id": "aa1bd9a96db1c066"
  },
  {
   "metadata": {
    "ExecuteTime": {
     "end_time": "2024-12-19T18:15:19.072929Z",
     "start_time": "2024-12-19T18:15:19.037054Z"
    }
   },
   "cell_type": "code",
   "source": [
    "tags = my_versions.get_versions_tags(repo)\n",
    "tags"
   ],
   "id": "10b1e203000c0899",
   "outputs": [
    {
     "data": {
      "text/plain": [
       "[<git.TagReference \"refs/tags/rel/release-2.1.0\">,\n",
       " <git.TagReference \"refs/tags/rel/release-2.2.0\">,\n",
       " <git.TagReference \"refs/tags/rel/release-2.3.0\">,\n",
       " <git.TagReference \"refs/tags/rel/release-3.0.0\">,\n",
       " <git.TagReference \"refs/tags/rel/release-3.1.0\">,\n",
       " <git.TagReference \"refs/tags/rel/release-4.0.0\">,\n",
       " <git.TagReference \"refs/tags/release-2.0.0\">]"
      ]
     },
     "execution_count": 6,
     "metadata": {},
     "output_type": "execute_result"
    }
   ],
   "execution_count": 6
  },
  {
   "metadata": {
    "ExecuteTime": {
     "end_time": "2024-12-19T18:15:19.254796Z",
     "start_time": "2024-12-19T18:15:19.249652Z"
    }
   },
   "cell_type": "code",
   "source": [
    "filtered_versions: {(int, int, int): git.Commit} = {}\n",
    "for tag in my_versions.order_versions(tags):\n",
    "    filtered_versions[tag.name.split(\"-\")[-1]] = tag.name\n",
    "filtered_versions"
   ],
   "id": "855a8ca6e0556969",
   "outputs": [
    {
     "data": {
      "text/plain": [
       "{'2.0.0': 'release-2.0.0',\n",
       " '2.1.0': 'rel/release-2.1.0',\n",
       " '2.2.0': 'rel/release-2.2.0',\n",
       " '2.3.0': 'rel/release-2.3.0',\n",
       " '3.0.0': 'rel/release-3.0.0',\n",
       " '3.1.0': 'rel/release-3.1.0',\n",
       " '4.0.0': 'rel/release-4.0.0'}"
      ]
     },
     "execution_count": 7,
     "metadata": {},
     "output_type": "execute_result"
    }
   ],
   "execution_count": 7
  },
  {
   "metadata": {
    "ExecuteTime": {
     "end_time": "2024-12-19T18:15:19.406911Z",
     "start_time": "2024-12-19T18:15:19.403510Z"
    }
   },
   "cell_type": "code",
   "source": [
    "version_order = {\n",
    "    '2.0.0': None,\n",
    "    '2.1.0': '2.0.0',\n",
    "    '2.2.0': '2.0.0',\n",
    "    '2.3.0': '2.0.0',\n",
    "    '3.0.0': '2.0.0',\n",
    "    '3.1.0': '3.0.0',\n",
    "    '4.0.0': '3.0.0'\n",
    "}"
   ],
   "id": "83c6a9f6df7cfa6c",
   "outputs": [],
   "execution_count": 8
  },
  {
   "metadata": {},
   "cell_type": "markdown",
   "source": [
    "---\n",
    "\n",
    "---\n",
    "\n",
    "# Data processing using Pydriller\n",
    "\n",
    "\n",
    "---\n",
    "\n",
    "---\n",
    "\n",
    "## Constants loading"
   ],
   "id": "fb778f7ea5a29dab"
  },
  {
   "metadata": {
    "ExecuteTime": {
     "end_time": "2024-12-19T18:15:20.307851Z",
     "start_time": "2024-12-19T18:15:20.304535Z"
    }
   },
   "cell_type": "code",
   "source": "# my_versions.build_versions_commits(repo, filtered_versions)",
   "id": "89ff6c166691f3b1",
   "outputs": [],
   "execution_count": 9
  },
  {
   "metadata": {},
   "cell_type": "markdown",
   "source": [
    "---\n",
    "\n",
    "## Extracting commits for each version"
   ],
   "id": "31489ae111ced736"
  },
  {
   "metadata": {
    "ExecuteTime": {
     "end_time": "2024-12-19T18:15:26.261861Z",
     "start_time": "2024-12-19T18:15:23.989883Z"
    }
   },
   "cell_type": "code",
   "source": [
    "print(f\"Skipping full versions build\")\n",
    "versions_metrics = {}\n",
    "for key in filtered_versions:\n",
    "    print(f\"Building version {key}\")\n",
    "    with open(os.path.join(\"data/versions_build\", f\"{key}.json\"), \"r\") as f:\n",
    "        versions_metrics[key] = json.load(f)"
   ],
   "id": "9f96326a5ae2d71",
   "outputs": [
    {
     "name": "stdout",
     "output_type": "stream",
     "text": [
      "Skipping full versions build\n",
      "Building version 2.0.0\n",
      "Building version 2.1.0\n",
      "Building version 2.2.0\n",
      "Building version 2.3.0\n",
      "Building version 3.0.0\n",
      "Building version 3.1.0\n",
      "Building version 4.0.0\n"
     ]
    }
   ],
   "execution_count": 10
  },
  {
   "metadata": {
    "ExecuteTime": {
     "end_time": "2024-12-19T18:15:27.797897Z",
     "start_time": "2024-12-19T18:15:27.795147Z"
    }
   },
   "cell_type": "code",
   "source": "bug_keywords = [\"bug\", \"fix\", \"error\", \"mistake\", \"fault\", \"flaw\", \"defect\", \"patch\", \"repair\", \"resolve\", \"correct\"]",
   "id": "467d85690d3ff1dd",
   "outputs": [],
   "execution_count": 11
  },
  {
   "metadata": {
    "ExecuteTime": {
     "end_time": "2024-12-19T18:16:27.270110Z",
     "start_time": "2024-12-19T18:16:24.821596Z"
    }
   },
   "cell_type": "code",
   "source": [
    "version_file_dict: dict = {}\n",
    "version_dev_dict: dict = {}\n",
    "for version in filtered_versions:\n",
    "    previous_versions = []\n",
    "    previous_version = version_order[version]\n",
    "    while previous_version is not None:\n",
    "        previous_versions.append(versions_metrics[version_order[version]])\n",
    "        previous_version = version_order[previous_version]\n",
    "    i = 0\n",
    "    files_dict = {}\n",
    "    version_dev_dict[version] = {}\n",
    "    for commit_hash in versions_metrics[version]:\n",
    "        if any(commit_hash in previous_version for previous_version in previous_versions):\n",
    "            continue\n",
    "        commit = versions_metrics[version][commit_hash]\n",
    "        dev = commit[\"email\"]\n",
    "        if dev not in version_dev_dict[version]:\n",
    "            version_dev_dict[version][dev] = 0\n",
    "        version_dev_dict[version][dev] += 1\n",
    "        for file in versions_metrics[version][commit_hash][\"modified_files\"]:\n",
    "            filename = file[\"filename\"]\n",
    "            if filename not in files_dict:\n",
    "                files_dict[filename]: {str: dict} = {\n",
    "                    \"commit_count\": 0,\n",
    "                    \"commit_count_changed_comment\": 0,\n",
    "                    \"commit_count_unchanged_comment\": 0,\n",
    "                    \"commit_count_bug\": 0,\n",
    "                    \"added_lines\": 0,\n",
    "                    \"deleted_lines\": 0,\n",
    "                    \"devs\": set(),\n",
    "                    \"modification_dates\": [],\n",
    "                }\n",
    "\n",
    "            files_dict[filename][\"commit_count\"] += 1\n",
    "            files_dict[filename][\"added_lines\"] += file[\"added_lines\"]\n",
    "            files_dict[filename][\"deleted_lines\"] += file[\"deleted_lines\"]\n",
    "            if file[\"comments_changed\"][\"added\"] != 0 or file[\"comments_changed\"][\"deleted\"] != 0:\n",
    "                files_dict[filename][\"commit_count_changed_comment\"] += 1\n",
    "            else:\n",
    "                files_dict[filename][\"commit_count_unchanged_comment\"] += 1\n",
    "            if any(keyword in commit[\"msg\"].lower() for keyword in bug_keywords):\n",
    "                files_dict[filename][\"commit_count_bug\"] += 1\n",
    "            files_dict[filename][\"devs\"].add(commit[\"email\"])\n",
    "            files_dict[filename][\"modification_dates\"].append(commit[\"author_date\"])\n",
    "    version_file_dict[version] = files_dict\n"
   ],
   "id": "50852bfaf889a724",
   "outputs": [],
   "execution_count": 13
  },
  {
   "metadata": {},
   "cell_type": "markdown",
   "source": "### Dev XP",
   "id": "e8e006cb04af3e77"
  },
  {
   "metadata": {
    "ExecuteTime": {
     "end_time": "2024-12-19T18:16:32.603994Z",
     "start_time": "2024-12-19T18:16:32.598734Z"
    }
   },
   "cell_type": "code",
   "source": [
    "dev_count_commit_until: dict = {}\n",
    "for version in version_dev_dict:\n",
    "    dev_count_commit_until[version] = {}\n",
    "    previous_version = version_order[version]\n",
    "    while previous_version:\n",
    "        for dev in version_dev_dict[previous_version]:\n",
    "            if dev not in dev_count_commit_until[version]:\n",
    "                dev_count_commit_until[version][dev] = 0\n",
    "            dev_count_commit_until[version][dev] += version_dev_dict[previous_version][dev]\n",
    "        previous_version = version_order[previous_version]"
   ],
   "id": "d11b25a16031707f",
   "outputs": [],
   "execution_count": 14
  },
  {
   "metadata": {
    "ExecuteTime": {
     "end_time": "2024-12-19T18:16:34.234668Z",
     "start_time": "2024-12-19T18:16:34.045443Z"
    }
   },
   "cell_type": "code",
   "source": [
    "for version in version_file_dict:\n",
    "    for file in version_file_dict[version]:\n",
    "        version_file_dict[version][file][\"dev_count\"] = len(version_file_dict[version][file][\"devs\"])\n",
    "        version_file_dict[version][file][\"modification_dates\"] = sorted(\n",
    "            version_file_dict[version][file][\"modification_dates\"])\n",
    "        version_file_dict[version][file][\"mean_dev_xp\"] = 0\n",
    "        version_file_dict[version][file][\"min_dev_xp\"] = 0\n",
    "        for dev in version_file_dict[version][file][\"devs\"]:\n",
    "            dev_xp = dev_count_commit_until[version][dev] if dev in dev_count_commit_until[version] else 0\n",
    "            version_file_dict[version][file][\"mean_dev_xp\"] += dev_xp\n",
    "            version_file_dict[version][file][\"min_dev_xp\"] = min(version_file_dict[version][file][\"min_dev_xp\"], dev_xp)\n",
    "        if len(version_file_dict[version][file][\"devs\"]) != 0:\n",
    "            version_file_dict[version][file][\"mean_dev_xp\"] /= len(version_file_dict[version][file][\"devs\"])\n",
    "        else:\n",
    "            version_file_dict[version][file][\"mean_dev_xp\"] = 0\n"
   ],
   "id": "cc242ba79a1310db",
   "outputs": [],
   "execution_count": 15
  },
  {
   "metadata": {},
   "cell_type": "markdown",
   "source": "### Commit and dev recursive",
   "id": "44fb700c83a069ce"
  },
  {
   "metadata": {
    "ExecuteTime": {
     "end_time": "2024-12-19T18:16:36.055511Z",
     "start_time": "2024-12-19T18:16:35.896636Z"
    }
   },
   "cell_type": "code",
   "source": [
    "for version in version_file_dict:\n",
    "    for file in version_file_dict[version]:\n",
    "        commit_counter = version_file_dict[version][file][\"commit_count\"]\n",
    "        devs = version_file_dict[version][file][\"devs\"]\n",
    "\n",
    "        previous_version = version_order[version]\n",
    "        while previous_version:\n",
    "            if file in version_file_dict[previous_version]:\n",
    "                commit_counter += version_file_dict[previous_version][file][\"commit_count\"]\n",
    "                devs = devs.union(version_file_dict[previous_version][file][\"devs\"])\n",
    "            previous_version = version_order[previous_version]\n",
    "        version_file_dict[version][file][\"commit_recursive\"] = commit_counter\n",
    "        version_file_dict[version][file][\"devs_recursive\"] = devs\n"
   ],
   "id": "e043a0a4bf7aa069",
   "outputs": [],
   "execution_count": 16
  },
  {
   "metadata": {},
   "cell_type": "markdown",
   "source": "### Mean time between commits",
   "id": "e2a385bac0538ed0"
  },
  {
   "metadata": {
    "ExecuteTime": {
     "end_time": "2024-12-19T18:16:41.296595Z",
     "start_time": "2024-12-19T18:16:37.800317Z"
    }
   },
   "cell_type": "code",
   "source": [
    "for version in version_file_dict:\n",
    "    for file in version_file_dict[version]:\n",
    "        modification_dates = version_file_dict[version][file][\"modification_dates\"]\n",
    "        if len(modification_dates) == 0:\n",
    "            version_file_dict[version][file][\"mean_time_between_commits\"] = 0\n",
    "        else:\n",
    "            diff = []\n",
    "            for i in range(1, len(modification_dates)):\n",
    "                # Modification dates are strings : \"2008-09-02 23:58:59\"\n",
    "                # Transform them into datetime objects\n",
    "                modification_dates_1 = datetime.strptime(modification_dates[i], \"%Y-%m-%d %H:%M:%S\")\n",
    "                modification_dates_2 = datetime.strptime(modification_dates[i - 1], \"%Y-%m-%d %H:%M:%S\")\n",
    "                diff.append((modification_dates_1 - modification_dates_2).seconds)\n",
    "            version_file_dict[version][file][\"mean_time_between_commits\"] = sum(diff) / len(diff) if len(\n",
    "                diff) != 0 else 0"
   ],
   "id": "8e20e94be1bc5c3",
   "outputs": [],
   "execution_count": 17
  },
  {
   "metadata": {},
   "cell_type": "markdown",
   "source": "### Mean time between commits recursive",
   "id": "4c172a410a5e3000"
  },
  {
   "metadata": {
    "ExecuteTime": {
     "end_time": "2024-12-19T18:16:52.476393Z",
     "start_time": "2024-12-19T18:16:41.301882Z"
    }
   },
   "cell_type": "code",
   "source": [
    "for version in version_file_dict:\n",
    "    studied_version = version\n",
    "    while studied_version:\n",
    "        for file in version_file_dict[studied_version]:\n",
    "            modification_dates = version_file_dict[studied_version][file][\"modification_dates\"]\n",
    "            if len(modification_dates) == 0:\n",
    "                version_file_dict[studied_version][file][\"mean_time_between_commits_recursive\"] = 0\n",
    "            else:\n",
    "                diff = []\n",
    "                for i in range(1, len(modification_dates)):\n",
    "                    # Modification dates are strings : \"2008-09-02 23:58:59\"\n",
    "                    # Transform them into datetime objects\n",
    "                    modification_dates_1 = datetime.strptime(modification_dates[i], \"%Y-%m-%d %H:%M:%S\")\n",
    "                    modification_dates_2 = datetime.strptime(modification_dates[i - 1], \"%Y-%m-%d %H:%M:%S\")\n",
    "                    diff.append((modification_dates_1 - modification_dates_2).seconds)\n",
    "                version_file_dict[studied_version][file][\"mean_time_between_commits_recursive\"] = sum(diff) / len(\n",
    "                    diff) if len(diff) != 0 else 0\n",
    "        studied_version = version_order[studied_version]\n"
   ],
   "id": "b7d433308a1d63e7",
   "outputs": [],
   "execution_count": 18
  },
  {
   "metadata": {},
   "cell_type": "markdown",
   "source": [
    "---\n",
    "\n",
    "## Load understand data in a DataFrame"
   ],
   "id": "e404e9beead4f5d8"
  },
  {
   "metadata": {
    "ExecuteTime": {
     "end_time": "2024-12-19T18:16:54.513906Z",
     "start_time": "2024-12-19T18:16:52.503960Z"
    }
   },
   "cell_type": "code",
   "source": [
    "import pandas as pd\n",
    "\n",
    "understand_df = {}\n",
    "\n",
    "merged_metrics_directory = os.path.join(data_directory, config[\"OUTPUT\"][\"MergedMetricsOutputDirectory\"])\n",
    "\n",
    "for file in os.listdir(merged_metrics_directory):\n",
    "    if file.endswith(\".csv\"):\n",
    "        understand_df[file.split(\"_\")[0]] = pd.read_csv(os.path.join(merged_metrics_directory, file))\n",
    "\n",
    "print(understand_df.keys())"
   ],
   "id": "78a7134f8780a92d",
   "outputs": [
    {
     "name": "stdout",
     "output_type": "stream",
     "text": [
      "dict_keys(['2.0.0', '2.1.0', '2.2.0', '2.3.0', '3.0.0', '3.1.0', '4.0.0'])\n"
     ]
    }
   ],
   "execution_count": 19
  },
  {
   "metadata": {
    "ExecuteTime": {
     "end_time": "2024-12-19T18:16:59.462104Z",
     "start_time": "2024-12-19T18:16:54.561509Z"
    }
   },
   "cell_type": "code",
   "source": [
    "if not os.path.exists(\"data/full_metrics\"):\n",
    "    os.makedirs(\"data/full_metrics\")\n",
    "\n",
    "for version in understand_df:\n",
    "    df = understand_df[version]\n",
    "    df[\"commit_count\"] = 0\n",
    "    df[\"commit_count_r\"] = 0\n",
    "    df[\"commit_count_changed_comment\"] = 0\n",
    "    df[\"commit_count_unchanged_comment\"] = 0\n",
    "    df[\"commit_count_bug\"] = 0\n",
    "    df[\"added_lines\"] = 0\n",
    "    df[\"deleted_lines\"] = 0\n",
    "    df[\"count_dev\"] = 0\n",
    "    df[\"count_dev_r\"] = 0\n",
    "    df[\"mean_dev_xp\"] = 0\n",
    "    df[\"min_dev_xp\"] = 0\n",
    "    df[\"mean_time\"] = 0\n",
    "    df[\"mean_time_r\"] = 0\n",
    "\n",
    "    for index, row in df.iterrows():\n",
    "        filename = row[\"Name\"]\n",
    "        if filename in version_file_dict[version]:\n",
    "            df.at[index, \"commit_count\"] = version_file_dict[version][filename][\"commit_count\"]\n",
    "            df.at[index, \"commit_count_r\"] = version_file_dict[version][filename][\"commit_recursive\"]\n",
    "            df.at[index, \"commit_count_changed_comment\"] = version_file_dict[version][filename][\n",
    "                \"commit_count_changed_comment\"]\n",
    "            df.at[index, \"commit_count_unchanged_comment\"] = version_file_dict[version][filename][\n",
    "                \"commit_count_unchanged_comment\"]\n",
    "            df.at[index, \"commit_count_bug\"] = version_file_dict[version][filename][\"commit_count_bug\"]\n",
    "            df.at[index, \"added_lines\"] = version_file_dict[version][filename][\"added_lines\"]\n",
    "            df.at[index, \"deleted_lines\"] = version_file_dict[version][filename][\"deleted_lines\"]\n",
    "            df.at[index, \"count_dev\"] = version_file_dict[version][filename][\"dev_count\"]\n",
    "            df.at[index, \"count_dev_r\"] = len(version_file_dict[version][filename][\"devs_recursive\"])\n",
    "            df.at[index, \"mean_dev_xp\"] = int(version_file_dict[version][filename][\"mean_dev_xp\"])\n",
    "            df.at[index, \"min_dev_xp\"] = int(version_file_dict[version][filename][\"min_dev_xp\"])\n",
    "            df.at[index, \"mean_time\"] = int(version_file_dict[version][filename][\"mean_time_between_commits\"])\n",
    "            df.at[index, \"mean_time_r\"] = int(\n",
    "                version_file_dict[version][filename][\"mean_time_between_commits_recursive\"])\n",
    "\n",
    "    df.to_csv(\"data/full_metrics/\" + version + \"_full_metrics.csv\", index=False)\n"
   ],
   "id": "e9bf25dcb05c1a25",
   "outputs": [],
   "execution_count": 20
  },
  {
   "metadata": {
    "ExecuteTime": {
     "end_time": "2024-12-19T18:16:59.468845Z",
     "start_time": "2024-12-19T18:16:59.466271Z"
    }
   },
   "cell_type": "code",
   "source": "",
   "id": "ffbffd8770e0e271",
   "outputs": [],
   "execution_count": null
  },
  {
   "metadata": {},
   "cell_type": "code",
   "outputs": [],
   "execution_count": null,
   "source": "",
   "id": "78a679edbd7b8d49"
  }
 ],
 "metadata": {
  "kernelspec": {
   "display_name": "Python 3",
   "language": "python",
   "name": "python3"
  },
  "language_info": {
   "codemirror_mode": {
    "name": "ipython",
    "version": 2
   },
   "file_extension": ".py",
   "mimetype": "text/x-python",
   "name": "python",
   "nbconvert_exporter": "python",
   "pygments_lexer": "ipython2",
   "version": "2.7.6"
  }
 },
 "nbformat": 4,
 "nbformat_minor": 5
}
